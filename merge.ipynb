{
 "cells": [
  {
   "cell_type": "code",
   "execution_count": 7,
   "metadata": {},
   "outputs": [
    {
     "name": "stdout",
     "output_type": "stream",
     "text": [
      "The files have been combined and saved as 'base_all.xlsx'.\n"
     ]
    }
   ],
   "source": [
    "import pandas as pd\n",
    "\n",
    "# Path to the Excel files\n",
    "file_path1 = 'first round/base_01.xlsx'\n",
    "file_path2 = 'first round/base_02.xlsx'\n",
    "file_path3 = 'first round/base_03.xlsx'\n",
    "file_path4 = 'first round/base_04.xlsx'\n",
    "file_path5 = 'first round/base_05.xlsx'\n",
    "\n",
    "# Read the Excel files and get sheet names\n",
    "xlsx1 = pd.ExcelFile(file_path1)\n",
    "xlsx2 = pd.ExcelFile(file_path2)\n",
    "xlsx3 = pd.ExcelFile(file_path3)\n",
    "xlsx4 = pd.ExcelFile(file_path4)\n",
    "xlsx5 = pd.ExcelFile(file_path5)\n",
    "\n",
    "\n",
    "# Get a list of sheet names that are common to both files\n",
    "common_sheets = [sheet for sheet in xlsx1.sheet_names if sheet in xlsx2.sheet_names]\n",
    "\n",
    "# Initialize a writer for the output file\n",
    "writer = pd.ExcelWriter('base_all.xlsx', engine='openpyxl')\n",
    "\n",
    "# Loop through the list of common sheet names\n",
    "for sheet_name in common_sheets:\n",
    "    # Load the sheets into DataFrames\n",
    "    df1 = pd.read_excel(xlsx1, sheet_name=sheet_name)\n",
    "    df2 = pd.read_excel(xlsx2, sheet_name=sheet_name)\n",
    "    df3 = pd.read_excel(xlsx3, sheet_name=sheet_name)\n",
    "    df4 = pd.read_excel(xlsx4, sheet_name=sheet_name)\n",
    "    df5 = pd.read_excel(xlsx5, sheet_name=sheet_name)\n",
    "\n",
    "    # Combine the DataFrames\n",
    "    combined_df = pd.concat([df1, df2, df3, df4, df5], ignore_index=True)\n",
    "\n",
    "    # Write the combined DataFrame to the specified sheet in the output Excel file\n",
    "    combined_df.to_excel(writer, sheet_name=sheet_name, index=False)\n",
    "\n",
    "# Save the Excel file\n",
    "writer.close()\n",
    "print(\"The files have been combined and saved as 'base_all.xlsx'.\")\n"
   ]
  }
 ],
 "metadata": {
  "kernelspec": {
   "display_name": "tf",
   "language": "python",
   "name": "python3"
  },
  "language_info": {
   "codemirror_mode": {
    "name": "ipython",
    "version": 3
   },
   "file_extension": ".py",
   "mimetype": "text/x-python",
   "name": "python",
   "nbconvert_exporter": "python",
   "pygments_lexer": "ipython3",
   "version": "3.9.13"
  }
 },
 "nbformat": 4,
 "nbformat_minor": 2
}
