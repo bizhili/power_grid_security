{
 "cells": [
  {
   "cell_type": "code",
   "execution_count": 26,
   "metadata": {},
   "outputs": [
    {
     "name": "stdout",
     "output_type": "stream",
     "text": [
      "The autoreload extension is already loaded. To reload it, use:\n",
      "  %reload_ext autoreload\n",
      "case14\n",
      "choice_1_ratio_3_column_1\n"
     ]
    }
   ],
   "source": [
    "%load_ext autoreload\n",
    "%autoreload 2\n",
    "from utils.initialization import *\n",
    "from utils.mtd_incomplete import run_incomplete\n",
    "from utils.mtd_complete import run_complete\n",
    "from utils.utils import x_to_b, find_posi\n",
    "from copy import deepcopy\n",
    "from utils.grid_fun import dc_grid\n",
    "from numpy.linalg import norm\n",
    "import matplotlib.pyplot as plt\n",
    "from utils.evaluation_fun import generate_data\n",
    "import os\n",
    "\n",
    "print(name)\n",
    "print(name_suffix)"
   ]
  },
  {
   "cell_type": "code",
   "execution_count": 28,
   "metadata": {},
   "outputs": [
    {
     "name": "stdout",
     "output_type": "stream",
     "text": [
      "PYPOWER Version 5.1.16, 05-March-2023 -- AC Optimal Power Flow\n",
      "Python Interior Point Solver - PIPS, Version 1.0, 07-Feb-2011\n",
      "Converged!\n",
      "(14,)\n",
      "(14,)\n",
      "(14,)\n",
      "(14,)\n",
      "(20, 13)\n",
      "dict_keys(['version', 'baseMVA', 'bus', 'gen', 'branch', 'gencost', 'order', 'om', 'x', 'mu', 'f', 'var', 'lin', 'nln', 'et', 'success', 'raw'])\n",
      "(38,)\n"
     ]
    }
   ],
   "source": [
    "active_power, reactive_power, v_mag_est, v_ang_est, Jr_N, result = generate_data(case)\n",
    "print(active_power.shape)\n",
    "print(reactive_power.shape)\n",
    "print(v_mag_est.shape)\n",
    "print(v_ang_est.shape)\n",
    "print(Jr_N.shape)\n",
    "print(result.keys())\n",
    "print(result[\"x\"].shape)"
   ]
  }
 ],
 "metadata": {
  "kernelspec": {
   "display_name": "tf",
   "language": "python",
   "name": "python3"
  },
  "language_info": {
   "codemirror_mode": {
    "name": "ipython",
    "version": 3
   },
   "file_extension": ".py",
   "mimetype": "text/x-python",
   "name": "python",
   "nbconvert_exporter": "python",
   "pygments_lexer": "ipython3",
   "version": "3.9.13"
  }
 },
 "nbformat": 4,
 "nbformat_minor": 2
}
