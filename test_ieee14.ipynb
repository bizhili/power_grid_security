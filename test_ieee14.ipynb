{
 "cells": [
  {
   "cell_type": "code",
   "execution_count": 1,
   "metadata": {},
   "outputs": [
    {
     "name": "stderr",
     "output_type": "stream",
     "text": [
      "C:\\Users\\30678\\AppData\\Roaming\\Python\\Python39\\site-packages\\pandas\\core\\arrays\\masked.py:60: UserWarning: Pandas requires version '1.3.6' or newer of 'bottleneck' (version '1.3.5' currently installed).\n",
      "  from pandas.core import (\n"
     ]
    }
   ],
   "source": [
    "%matplotlib inline  \n",
    "import os\n",
    "import numpy as np\n",
    "import pandas as pd\n",
    "import tempfile\n",
    "import random\n",
    "import pypower\n",
    "import pandapower as pp\n",
    "from pypower.api import case14\n",
    "from pandapower.timeseries import DFData\n",
    "from pandapower.timeseries import OutputWriter\n",
    "from pandapower.timeseries.run_time_series import run_timeseries\n",
    "from pandapower.control import ConstControl\n",
    "import matplotlib.pyplot as plt\n"
   ]
  },
  {
   "cell_type": "code",
   "execution_count": 2,
   "metadata": {},
   "outputs": [],
   "source": [
    "def create_load_samples(mu, sigma, timeStep= 10, n= 13):\n",
    "    profiles = pd.DataFrame()\n",
    "    for i in range(n):\n",
    "        profiles[f'load{i}'] = np.random.normal(mu, sigma, timeStep)\n",
    "    ds = DFData(profiles)\n",
    "    return profiles, ds\n",
    "\n",
    "def create_controllers(net, ds, n):\n",
    "    ConstControl(net, element='load', variable='p_mw', element_index=[i for i in range(n)],\n",
    "                 data_source=ds, profile_name=[f\"load{i}\" for i in range(n)])\n",
    "\n",
    "def create_output_writer(net, time_steps, output_dir):\n",
    "    ow = OutputWriter(net, time_steps, output_path=output_dir, output_file_type=\".xlsx\", log_variables=list())\n",
    "    # these variables are saved to the harddisk after / during the time series loop\n",
    "    ow.log_variable('res_load', 'p_mw')\n",
    "    ow.log_variable('res_bus', 'vm_pu')\n",
    "    ow.log_variable('res_load', 'q_mvar')\n",
    "    ow.log_variable('res_bus', 'va_degree')\n",
    "    ow.log_variable('res_line', 'loading_percent')\n",
    "    ow.log_variable('res_line', 'i_ka')\n",
    "    return ow\n",
    "\n",
    "def plot_matrix(matrix):\n",
    "    # Plotting the covariance matrix\n",
    "    plt.figure(figsize=(10, 8))\n",
    "    plt.imshow(matrix, interpolation='nearest', cmap='viridis')\n",
    "    plt.colorbar()\n",
    "    plt.title('Matrix')\n",
    "    plt.xlabel('Variables')\n",
    "    plt.ylabel('Variables')\n",
    "    plt.grid(False)  # Turn off the grid lines if they are not needed\n",
    "    plt.show()"
   ]
  },
  {
   "cell_type": "code",
   "execution_count": 4,
   "metadata": {},
   "outputs": [],
   "source": [
    "net = pp.networks.case14()\n"
   ]
  },
  {
   "cell_type": "code",
   "execution_count": 8,
   "metadata": {},
   "outputs": [
    {
     "data": {
      "text/plain": [
       "This pandapower network includes the following parameter tables:\n",
       "   - bus (14 elements)\n",
       "   - load (11 elements)\n",
       "   - gen (4 elements)\n",
       "   - shunt (1 element)\n",
       "   - ext_grid (1 element)\n",
       "   - line (15 elements)\n",
       "   - trafo (5 elements)\n",
       "   - poly_cost (5 elements)\n",
       "   - bus_geodata (14 elements)"
      ]
     },
     "execution_count": 8,
     "metadata": {},
     "output_type": "execute_result"
    }
   ],
   "source": [
    "net"
   ]
  },
  {
   "cell_type": "code",
   "execution_count": null,
   "metadata": {},
   "outputs": [],
   "source": []
  }
 ],
 "metadata": {
  "kernelspec": {
   "display_name": "tf",
   "language": "python",
   "name": "python3"
  },
  "language_info": {
   "codemirror_mode": {
    "name": "ipython",
    "version": 3
   },
   "file_extension": ".py",
   "mimetype": "text/x-python",
   "name": "python",
   "nbconvert_exporter": "python",
   "pygments_lexer": "ipython3",
   "version": "3.9.13"
  }
 },
 "nbformat": 4,
 "nbformat_minor": 2
}
